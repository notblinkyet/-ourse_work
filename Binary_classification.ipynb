{
 "cells": [
  {
   "cell_type": "markdown",
   "id": "e9f9e432",
   "metadata": {},
   "source": [
    "Импортируем библеотеки для работы с данными и считаем данные."
   ]
  },
  {
   "cell_type": "code",
   "execution_count": 1,
   "id": "84e0ec42",
   "metadata": {},
   "outputs": [],
   "source": [
    "import numpy as np\n",
    "import pandas as pd\n",
    "import matplotlib.pyplot as plt\n",
    "from sklearn.feature_selection import SelectKBest, f_classif, VarianceThreshold\n",
    "from sklearn.metrics import accuracy_score, roc_auc_score, roc_curve, f1_score, confusion_matrix\n",
    "from sklearn.preprocessing import StandardScaler, LabelEncoder\n",
    "from sklearn.svm import SVC\n",
    "from sklearn.pipeline import make_pipeline\n",
    "from sklearn.model_selection import train_test_split, GridSearchCV\n",
    "from sklearn.pipeline import Pipeline"
   ]
  },
  {
   "cell_type": "code",
   "execution_count": 2,
   "id": "54060e00",
   "metadata": {},
   "outputs": [],
   "source": [
    "data = pd.read_csv(\"df_train.csv\")\n",
    "test = pd.read_csv(\"df_test.csv\")\n",
    "Y_binar = data[\"class\"]\n",
    "df = data.drop([\"author\", \"class\", \"Unnamed: 0\"], axis=1)"
   ]
  },
  {
   "cell_type": "code",
   "execution_count": 3,
   "id": "cc5e3d08",
   "metadata": {},
   "outputs": [
    {
     "data": {
      "text/html": [
       "<div>\n",
       "<style scoped>\n",
       "    .dataframe tbody tr th:only-of-type {\n",
       "        vertical-align: middle;\n",
       "    }\n",
       "\n",
       "    .dataframe tbody tr th {\n",
       "        vertical-align: top;\n",
       "    }\n",
       "\n",
       "    .dataframe thead th {\n",
       "        text-align: right;\n",
       "    }\n",
       "</style>\n",
       "<table border=\"1\" class=\"dataframe\">\n",
       "  <thead>\n",
       "    <tr style=\"text-align: right;\">\n",
       "      <th></th>\n",
       "      <th>Unnamed: 0</th>\n",
       "      <th>author</th>\n",
       "      <th>class</th>\n",
       "      <th>,</th>\n",
       "      <th>.</th>\n",
       "      <th>и</th>\n",
       "      <th>в</th>\n",
       "      <th>социальный</th>\n",
       "      <th>на</th>\n",
       "      <th>:</th>\n",
       "      <th>...</th>\n",
       "      <th>Ялом</th>\n",
       "      <th>ярко-красный</th>\n",
       "      <th>ярлык</th>\n",
       "      <th>Ярославский</th>\n",
       "      <th>яростный</th>\n",
       "      <th>ясно</th>\n",
       "      <th>ясность</th>\n",
       "      <th>яхта</th>\n",
       "      <th>ящичка</th>\n",
       "      <th>ящичный</th>\n",
       "    </tr>\n",
       "  </thead>\n",
       "  <tbody>\n",
       "    <tr>\n",
       "      <th>150</th>\n",
       "      <td>179</td>\n",
       "      <td>gigachat</td>\n",
       "      <td>1</td>\n",
       "      <td>11.2</td>\n",
       "      <td>6.4</td>\n",
       "      <td>6.8</td>\n",
       "      <td>3.0</td>\n",
       "      <td>2.4</td>\n",
       "      <td>0.8</td>\n",
       "      <td>0.0</td>\n",
       "      <td>...</td>\n",
       "      <td>0.0</td>\n",
       "      <td>0.0</td>\n",
       "      <td>0.0</td>\n",
       "      <td>0.0</td>\n",
       "      <td>0.0</td>\n",
       "      <td>0</td>\n",
       "      <td>0</td>\n",
       "      <td>0.0</td>\n",
       "      <td>0.0</td>\n",
       "      <td>0.0</td>\n",
       "    </tr>\n",
       "    <tr>\n",
       "      <th>151</th>\n",
       "      <td>180</td>\n",
       "      <td>gigachat</td>\n",
       "      <td>1</td>\n",
       "      <td>10.0</td>\n",
       "      <td>6.6</td>\n",
       "      <td>7.8</td>\n",
       "      <td>1.8</td>\n",
       "      <td>5.0</td>\n",
       "      <td>0.4</td>\n",
       "      <td>0.4</td>\n",
       "      <td>...</td>\n",
       "      <td>0.0</td>\n",
       "      <td>0.0</td>\n",
       "      <td>0.0</td>\n",
       "      <td>0.0</td>\n",
       "      <td>0.0</td>\n",
       "      <td>0</td>\n",
       "      <td>0</td>\n",
       "      <td>0.0</td>\n",
       "      <td>0.0</td>\n",
       "      <td>0.0</td>\n",
       "    </tr>\n",
       "    <tr>\n",
       "      <th>152</th>\n",
       "      <td>181</td>\n",
       "      <td>gigachat</td>\n",
       "      <td>1</td>\n",
       "      <td>9.2</td>\n",
       "      <td>6.2</td>\n",
       "      <td>6.0</td>\n",
       "      <td>2.8</td>\n",
       "      <td>7.0</td>\n",
       "      <td>0.4</td>\n",
       "      <td>0.0</td>\n",
       "      <td>...</td>\n",
       "      <td>0.0</td>\n",
       "      <td>0.0</td>\n",
       "      <td>0.0</td>\n",
       "      <td>0.0</td>\n",
       "      <td>0.0</td>\n",
       "      <td>0</td>\n",
       "      <td>0</td>\n",
       "      <td>0.0</td>\n",
       "      <td>0.0</td>\n",
       "      <td>0.0</td>\n",
       "    </tr>\n",
       "    <tr>\n",
       "      <th>153</th>\n",
       "      <td>182</td>\n",
       "      <td>gigachat</td>\n",
       "      <td>1</td>\n",
       "      <td>8.2</td>\n",
       "      <td>5.8</td>\n",
       "      <td>7.8</td>\n",
       "      <td>1.2</td>\n",
       "      <td>3.4</td>\n",
       "      <td>1.8</td>\n",
       "      <td>0.0</td>\n",
       "      <td>...</td>\n",
       "      <td>0.0</td>\n",
       "      <td>0.0</td>\n",
       "      <td>0.0</td>\n",
       "      <td>0.0</td>\n",
       "      <td>0.0</td>\n",
       "      <td>0</td>\n",
       "      <td>0</td>\n",
       "      <td>0.0</td>\n",
       "      <td>0.0</td>\n",
       "      <td>0.0</td>\n",
       "    </tr>\n",
       "    <tr>\n",
       "      <th>154</th>\n",
       "      <td>183</td>\n",
       "      <td>gigachat</td>\n",
       "      <td>1</td>\n",
       "      <td>8.2</td>\n",
       "      <td>6.8</td>\n",
       "      <td>7.8</td>\n",
       "      <td>2.0</td>\n",
       "      <td>4.4</td>\n",
       "      <td>1.0</td>\n",
       "      <td>0.0</td>\n",
       "      <td>...</td>\n",
       "      <td>0.0</td>\n",
       "      <td>0.0</td>\n",
       "      <td>0.0</td>\n",
       "      <td>0.0</td>\n",
       "      <td>0.0</td>\n",
       "      <td>0</td>\n",
       "      <td>0</td>\n",
       "      <td>0.0</td>\n",
       "      <td>0.0</td>\n",
       "      <td>0.0</td>\n",
       "    </tr>\n",
       "    <tr>\n",
       "      <th>...</th>\n",
       "      <td>...</td>\n",
       "      <td>...</td>\n",
       "      <td>...</td>\n",
       "      <td>...</td>\n",
       "      <td>...</td>\n",
       "      <td>...</td>\n",
       "      <td>...</td>\n",
       "      <td>...</td>\n",
       "      <td>...</td>\n",
       "      <td>...</td>\n",
       "      <td>...</td>\n",
       "      <td>...</td>\n",
       "      <td>...</td>\n",
       "      <td>...</td>\n",
       "      <td>...</td>\n",
       "      <td>...</td>\n",
       "      <td>...</td>\n",
       "      <td>...</td>\n",
       "      <td>...</td>\n",
       "      <td>...</td>\n",
       "      <td>...</td>\n",
       "    </tr>\n",
       "    <tr>\n",
       "      <th>596</th>\n",
       "      <td>694</td>\n",
       "      <td>yandexgpt</td>\n",
       "      <td>1</td>\n",
       "      <td>7.4</td>\n",
       "      <td>4.8</td>\n",
       "      <td>3.8</td>\n",
       "      <td>3.0</td>\n",
       "      <td>0.2</td>\n",
       "      <td>0.4</td>\n",
       "      <td>0.4</td>\n",
       "      <td>...</td>\n",
       "      <td>0.0</td>\n",
       "      <td>0.0</td>\n",
       "      <td>0.0</td>\n",
       "      <td>0.0</td>\n",
       "      <td>0.0</td>\n",
       "      <td>0</td>\n",
       "      <td>0</td>\n",
       "      <td>0.0</td>\n",
       "      <td>0.0</td>\n",
       "      <td>0.0</td>\n",
       "    </tr>\n",
       "    <tr>\n",
       "      <th>597</th>\n",
       "      <td>695</td>\n",
       "      <td>yandexgpt</td>\n",
       "      <td>1</td>\n",
       "      <td>7.0</td>\n",
       "      <td>4.8</td>\n",
       "      <td>4.8</td>\n",
       "      <td>2.4</td>\n",
       "      <td>2.0</td>\n",
       "      <td>0.4</td>\n",
       "      <td>1.6</td>\n",
       "      <td>...</td>\n",
       "      <td>0.0</td>\n",
       "      <td>0.0</td>\n",
       "      <td>0.0</td>\n",
       "      <td>0.0</td>\n",
       "      <td>0.0</td>\n",
       "      <td>0</td>\n",
       "      <td>0</td>\n",
       "      <td>0.0</td>\n",
       "      <td>0.0</td>\n",
       "      <td>0.0</td>\n",
       "    </tr>\n",
       "    <tr>\n",
       "      <th>598</th>\n",
       "      <td>697</td>\n",
       "      <td>yandexgpt</td>\n",
       "      <td>1</td>\n",
       "      <td>8.6</td>\n",
       "      <td>5.2</td>\n",
       "      <td>4.8</td>\n",
       "      <td>3.8</td>\n",
       "      <td>1.2</td>\n",
       "      <td>0.8</td>\n",
       "      <td>0.0</td>\n",
       "      <td>...</td>\n",
       "      <td>0.0</td>\n",
       "      <td>0.0</td>\n",
       "      <td>0.0</td>\n",
       "      <td>0.0</td>\n",
       "      <td>0.0</td>\n",
       "      <td>0</td>\n",
       "      <td>0</td>\n",
       "      <td>0.0</td>\n",
       "      <td>0.0</td>\n",
       "      <td>0.0</td>\n",
       "    </tr>\n",
       "    <tr>\n",
       "      <th>599</th>\n",
       "      <td>699</td>\n",
       "      <td>yandexgpt</td>\n",
       "      <td>1</td>\n",
       "      <td>6.6</td>\n",
       "      <td>7.0</td>\n",
       "      <td>3.2</td>\n",
       "      <td>3.0</td>\n",
       "      <td>1.0</td>\n",
       "      <td>1.0</td>\n",
       "      <td>1.2</td>\n",
       "      <td>...</td>\n",
       "      <td>0.0</td>\n",
       "      <td>0.0</td>\n",
       "      <td>0.0</td>\n",
       "      <td>0.0</td>\n",
       "      <td>0.0</td>\n",
       "      <td>0</td>\n",
       "      <td>0</td>\n",
       "      <td>0.0</td>\n",
       "      <td>0.0</td>\n",
       "      <td>0.0</td>\n",
       "    </tr>\n",
       "    <tr>\n",
       "      <th>600</th>\n",
       "      <td>701</td>\n",
       "      <td>yandexgpt</td>\n",
       "      <td>1</td>\n",
       "      <td>7.4</td>\n",
       "      <td>6.2</td>\n",
       "      <td>5.4</td>\n",
       "      <td>1.6</td>\n",
       "      <td>5.4</td>\n",
       "      <td>1.6</td>\n",
       "      <td>0.0</td>\n",
       "      <td>...</td>\n",
       "      <td>0.0</td>\n",
       "      <td>0.0</td>\n",
       "      <td>0.0</td>\n",
       "      <td>0.0</td>\n",
       "      <td>0.0</td>\n",
       "      <td>0</td>\n",
       "      <td>0</td>\n",
       "      <td>0.0</td>\n",
       "      <td>0.0</td>\n",
       "      <td>0.0</td>\n",
       "    </tr>\n",
       "  </tbody>\n",
       "</table>\n",
       "<p>318 rows × 14490 columns</p>\n",
       "</div>"
      ],
      "text/plain": [
       "     Unnamed: 0     author  class     ,    .    и    в  социальный   на    :  \\\n",
       "150         179   gigachat      1  11.2  6.4  6.8  3.0         2.4  0.8  0.0   \n",
       "151         180   gigachat      1  10.0  6.6  7.8  1.8         5.0  0.4  0.4   \n",
       "152         181   gigachat      1   9.2  6.2  6.0  2.8         7.0  0.4  0.0   \n",
       "153         182   gigachat      1   8.2  5.8  7.8  1.2         3.4  1.8  0.0   \n",
       "154         183   gigachat      1   8.2  6.8  7.8  2.0         4.4  1.0  0.0   \n",
       "..          ...        ...    ...   ...  ...  ...  ...         ...  ...  ...   \n",
       "596         694  yandexgpt      1   7.4  4.8  3.8  3.0         0.2  0.4  0.4   \n",
       "597         695  yandexgpt      1   7.0  4.8  4.8  2.4         2.0  0.4  1.6   \n",
       "598         697  yandexgpt      1   8.6  5.2  4.8  3.8         1.2  0.8  0.0   \n",
       "599         699  yandexgpt      1   6.6  7.0  3.2  3.0         1.0  1.0  1.2   \n",
       "600         701  yandexgpt      1   7.4  6.2  5.4  1.6         5.4  1.6  0.0   \n",
       "\n",
       "     ...  Ялом  ярко-красный  ярлык  Ярославский  яростный  ясно  ясность  \\\n",
       "150  ...   0.0           0.0    0.0          0.0       0.0     0        0   \n",
       "151  ...   0.0           0.0    0.0          0.0       0.0     0        0   \n",
       "152  ...   0.0           0.0    0.0          0.0       0.0     0        0   \n",
       "153  ...   0.0           0.0    0.0          0.0       0.0     0        0   \n",
       "154  ...   0.0           0.0    0.0          0.0       0.0     0        0   \n",
       "..   ...   ...           ...    ...          ...       ...   ...      ...   \n",
       "596  ...   0.0           0.0    0.0          0.0       0.0     0        0   \n",
       "597  ...   0.0           0.0    0.0          0.0       0.0     0        0   \n",
       "598  ...   0.0           0.0    0.0          0.0       0.0     0        0   \n",
       "599  ...   0.0           0.0    0.0          0.0       0.0     0        0   \n",
       "600  ...   0.0           0.0    0.0          0.0       0.0     0        0   \n",
       "\n",
       "     яхта  ящичка  ящичный  \n",
       "150   0.0     0.0      0.0  \n",
       "151   0.0     0.0      0.0  \n",
       "152   0.0     0.0      0.0  \n",
       "153   0.0     0.0      0.0  \n",
       "154   0.0     0.0      0.0  \n",
       "..    ...     ...      ...  \n",
       "596   0.0     0.0      0.0  \n",
       "597   0.0     0.0      0.0  \n",
       "598   0.0     0.0      0.0  \n",
       "599   0.0     0.0      0.0  \n",
       "600   0.0     0.0      0.0  \n",
       "\n",
       "[318 rows x 14490 columns]"
      ]
     },
     "execution_count": 3,
     "metadata": {},
     "output_type": "execute_result"
    }
   ],
   "source": [
    "data[data[\"class\"] == 1]"
   ]
  },
  {
   "cell_type": "markdown",
   "id": "8f4a5e7e",
   "metadata": {},
   "source": [
    "Построим первую модель, простой метод опорных векторов, который опираеться на 50 лучших признаков, которые мы отберем при помощи дисперсионного анализа"
   ]
  },
  {
   "cell_type": "code",
   "execution_count": 4,
   "id": "a436c1ff",
   "metadata": {
    "scrolled": true
   },
   "outputs": [
    {
     "name": "stdout",
     "output_type": "stream",
     "text": [
      "['и', 'социальный', ':', 'общество', 'мочь', '\"', 'как', 'который', ')', '(', 'не', 'различный', 'процесс', 'структура', '–', 'то', 'развитие', 'также', 'изменение', 'например', 'роль', 'взаимодействие', 'влиять', 'культурный', 'но', 'важный', 'включать', 'влияние', 'можно', 'тот', 'только', 'понимание', 'все', 'ключевой', 'аспект', 'же', 'первый', 'взаимодействовать', 'включая', 'играть', 'помогать', 'контекст', 'иной', 'самый', 'сам', 'еще', 'нужный', 'поэтому', 'говорить', 'лишь']\n"
     ]
    }
   ],
   "source": [
    "selector = VarianceThreshold()\n",
    "df_new = selector.fit_transform(X=df)\n",
    "selector_binar = SelectKBest(f_classif, k=50)\n",
    "X_binar = selector_binar.fit_transform(df_new, Y_binar)\n",
    "selected_ind_binar = selector_binar.get_support(indices=True)\n",
    "print(list(df.columns[selected_ind_binar]))"
   ]
  },
  {
   "cell_type": "markdown",
   "id": "000cad18",
   "metadata": {},
   "source": [
    "Посмотрим какие признаки были отобраны"
   ]
  },
  {
   "cell_type": "markdown",
   "id": "54b01ea9",
   "metadata": {},
   "source": [
    "Разделим выборку на тренировочную и валидационную"
   ]
  },
  {
   "cell_type": "code",
   "execution_count": 5,
   "id": "63401115",
   "metadata": {},
   "outputs": [],
   "source": [
    "X_binar_train, X_binar_val, Y_binar_train, Y_binar_val = train_test_split(X_binar, Y_binar,\n",
    "                                                                          test_size=0.33, shuffle=True, stratify=Y_binar)"
   ]
  },
  {
   "cell_type": "markdown",
   "id": "54726eba",
   "metadata": {},
   "source": [
    "Наш pypeline состоит из нормировки и машин опорных векторов, гиперпарамметры такие как C, gamma и свободный коэфицент будем подбирать при помощи кросс валидации."
   ]
  },
  {
   "cell_type": "code",
   "execution_count": 6,
   "id": "d0d430b2",
   "metadata": {},
   "outputs": [
    {
     "data": {
      "text/plain": [
       "{'svm__C': 1.0}"
      ]
     },
     "execution_count": 6,
     "metadata": {},
     "output_type": "execute_result"
    }
   ],
   "source": [
    "pipeline = Pipeline([(\"scaler\", StandardScaler()), (\"svm\", SVC(probability=True))])\n",
    "params = {\"svm__C\": np.logspace(-3, 3, num=7, base=10.)}\n",
    "gs = GridSearchCV(pipeline, params)\n",
    "gs.fit(X_binar_train, Y_binar_train)\n",
    "gs.best_params_"
   ]
  },
  {
   "cell_type": "markdown",
   "id": "d2bcdc88",
   "metadata": {},
   "source": [
    "Оценим нашу модель на валидационной выборке при помощи точности предсказаний и площадью под roc кривой"
   ]
  },
  {
   "cell_type": "code",
   "execution_count": 7,
   "id": "a56a7680",
   "metadata": {},
   "outputs": [
    {
     "name": "stdout",
     "output_type": "stream",
     "text": [
      "0.9899497487437185\n",
      "0.9895833333333333\n"
     ]
    }
   ],
   "source": [
    "clf = gs.best_estimator_\n",
    "print(accuracy_score(clf.predict(X_binar_val), Y_binar_val))\n",
    "print(roc_auc_score(clf.predict(X_binar_val), Y_binar_val))"
   ]
  },
  {
   "cell_type": "markdown",
   "id": "0af6de89",
   "metadata": {},
   "source": [
    "Построим roc кривую"
   ]
  },
  {
   "cell_type": "code",
   "execution_count": 8,
   "id": "3db6cfa6",
   "metadata": {},
   "outputs": [
    {
     "data": {
      "image/png": "[encoded data removed]",
      "text/plain": [
       "<Figure size 640x480 with 1 Axes>"
      ]
     },
     "metadata": {},
     "output_type": "display_data"
    }
   ],
   "source": [
    "Y_pred_prob = clf.predict_proba(X_binar_val)[::, 1]\n",
    "fpr, tpr, _ = roc_curve(Y_binar_val, Y_pred_prob)\n",
    "\n",
    "plt.plot(fpr, tpr)\n",
    "plt.xlabel(\"False Positive Rate\")\n",
    "plt.ylabel(\"True Positive Rate\")\n",
    "plt.show()"
   ]
  },
  {
   "cell_type": "markdown",
   "id": "23565db1",
   "metadata": {},
   "source": [
    "Посмотрим на матрицу ошибок и f1_score"
   ]
  },
  {
   "cell_type": "code",
   "execution_count": 9,
   "id": "97c3ee4f",
   "metadata": {},
   "outputs": [
    {
     "name": "stdout",
     "output_type": "stream",
     "text": [
      "[[ 94   2]\n",
      " [  0 103]]\n"
     ]
    }
   ],
   "source": [
    "print(confusion_matrix(clf.predict(X_binar_val), Y_binar_val))"
   ]
  },
  {
   "cell_type": "code",
   "execution_count": 10,
   "id": "ee5098fc",
   "metadata": {
    "scrolled": true
   },
   "outputs": [
    {
     "name": "stdout",
     "output_type": "stream",
     "text": [
      "[0 0 0 0 1 0 1 0 0 1 1 1 0 0 0 1 1 1 1 1 1 0 1 0 0 0 0 1 1 1 1 1 1 1 1 1 1\n",
      " 1 1 1 1 0 0 1 1 1 0 1 1 0 1 1 1 1 0 0 0 1 1 1 1 0 0 0 1 0 1 0 1 1 0 1 0 0\n",
      " 1 0 1 0 1 0 0 1 0 1 0 1 1 0 1 0 0 0 0 1 0 1 0 0 1 0]\n"
     ]
    }
   ],
   "source": [
    "Y_pred_test_binar = clf.predict(np.array(test[df.columns[selected_ind_binar]]))\n",
    "print(Y_pred_test_binar)"
   ]
  },
  {
   "cell_type": "code",
   "execution_count": 11,
   "id": "3787383f",
   "metadata": {},
   "outputs": [],
   "source": [
    "ans = pd.read_csv(\"df_test_otvety.csv\")"
   ]
  },
  {
   "cell_type": "code",
   "execution_count": 12,
   "id": "587326b7",
   "metadata": {},
   "outputs": [
    {
     "name": "stdout",
     "output_type": "stream",
     "text": [
      "0.99\n"
     ]
    }
   ],
   "source": [
    "print(accuracy_score(Y_pred_test_binar, ans[\"class\"]))"
   ]
  }
 ],
 "metadata": {
  "kernelspec": {
   "display_name": "Python 3 (ipykernel)",
   "language": "python",
   "name": "python3"
  },
  "language_info": {
   "codemirror_mode": {
    "name": "ipython",
    "version": 3
   },
   "file_extension": ".py",
   "mimetype": "text/x-python",
   "name": "python",
   "nbconvert_exporter": "python",
   "pygments_lexer": "ipython3",
   "version": "3.11.3"
  }
 },
 "nbformat": 4,
 "nbformat_minor": 5
}
