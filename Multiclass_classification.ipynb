{
 "cells": [
  {
   "cell_type": "markdown",
   "id": "28a71076",
   "metadata": {},
   "source": [
    "Импортируем библеотеки для работы с данными и считаем данные."
   ]
  },
  {
   "cell_type": "code",
   "execution_count": 1,
   "id": "f3af70c2",
   "metadata": {},
   "outputs": [],
   "source": [
    "import numpy as np\n",
    "import pandas as pd\n",
    "from sklearn.feature_selection import SelectKBest, f_classif, VarianceThreshold\n",
    "from sklearn.metrics import accuracy_score\n",
    "from sklearn.model_selection import train_test_split, GridSearchCV\n",
    "from My_SVM import My_SVM"
   ]
  },
  {
   "cell_type": "code",
   "execution_count": 2,
   "id": "6de172d3",
   "metadata": {},
   "outputs": [],
   "source": [
    "data = pd.read_csv(\"df_train.csv\")\n",
    "test = pd.read_csv(\"df_test.csv\")\n",
    "df = data.drop([\"author\", \"class\", \"Unnamed: 0\"], axis=1)\n",
    "Y = data[\"author\"]"
   ]
  },
  {
   "cell_type": "markdown",
   "id": "c781ced9",
   "metadata": {},
   "source": [
    "Задаем целевую переменную и находим 50 лучших признаков основываясь на дисперсионный анализ, так же убираем те признаки у которых дисперсия 0, так как они не дают никакой информации и из-за них дисперсионный анализ выводит предупреждение"
   ]
  },
  {
   "cell_type": "code",
   "execution_count": 3,
   "id": "b5fc9a41",
   "metadata": {},
   "outputs": [
    {
     "name": "stdout",
     "output_type": "stream",
     "text": [
      "['и', 'социальный', ':', 'общество', 'мочь', '\"', 'как', 'который', '-', 'это', 'быть', ')', '(', 'человек', 'не', 'различный', 'так', '–', 'то', 'также', 'например', 'роль', 'при', 'взаимодействие', 'друг', 'влиять', 'культурный', 'далее', 'важный', 'включать', 'влияние', 'тот', 'часто', 'только', 'понимание', 'общность', 'все', 'ключевой', 'аспект', 'же', 'взаимодействовать', 'способствовать', 'включая', 'контекст', 'рис', 'иной', 'сам', 'еще', 'отражать', '“Социальный']\n"
     ]
    }
   ],
   "source": [
    "selector = VarianceThreshold()\n",
    "df_new = selector.fit_transform(X=df)\n",
    "selector = SelectKBest(f_classif, k=50)\n",
    "X = selector.fit_transform(df_new, Y)\n",
    "selected_ind = selector.get_support(indices=True)\n",
    "print(list(df.columns[selected_ind]))"
   ]
  },
  {
   "cell_type": "markdown",
   "id": "e142ac99",
   "metadata": {},
   "source": [
    "Теперь поделим наши данные на обучающую и валидационную выборки"
   ]
  },
  {
   "cell_type": "code",
   "execution_count": 4,
   "id": "1ae71515",
   "metadata": {},
   "outputs": [],
   "source": [
    "X_train, X_val, Y_train, Y_val = train_test_split(X,Y, test_size=0.33, shuffle=True, stratify=Y)"
   ]
  },
  {
   "cell_type": "markdown",
   "id": "cfe04c79",
   "metadata": {},
   "source": [
    "Построим несколько моделей с разными параметрами ядра"
   ]
  },
  {
   "cell_type": "code",
   "execution_count": 20,
   "id": "86a44f42",
   "metadata": {},
   "outputs": [],
   "source": [
    "model = My_SVM()\n",
    "params_1 = {\"C\": np.logspace(-3, 3, num=7, base=10.),\n",
    "            \"kernel\" : [\"linear\"],\n",
    "             \"decision_function_shape\":[\"ovo\"]}\n",
    "params_2 = {\"C\": np.logspace(-3, 3, num=7, base=10.),\n",
    "              \"degree\":[2, 3],\n",
    "             \"decision_function_shape\":[\"ovo\"],\n",
    "               \"kernel\":[\"poly\"]}\n",
    "params_3 = {\"C\": np.logspace(-3, 3, num=7, base=10.),\n",
    "               'gamma': [0.001, 0.01, 0.1],\n",
    "             \"decision_function_shape\":[\"ovo\"],\n",
    "               \"kernel\":[\"rbf\"]}\n",
    "params_4 = {\"C\": np.logspace(-3, 3, num=7, base=10.),\n",
    "               \"kernel\": [\"sigmoid\"],\n",
    "               \"decision_function_shape\":[\"ovo\"],\n",
    "               \"coef0\":[0, 1, -1, 0.1, -0.1]}\n",
    "multi_params = [params_1, params_2, params_3, params_4]"
   ]
  },
  {
   "cell_type": "code",
   "execution_count": 23,
   "id": "5e768916",
   "metadata": {},
   "outputs": [],
   "source": [
    "def grid_searche(params):\n",
    "    gs = GridSearchCV(model, params)\n",
    "    gs.fit(X_train, Y_train)\n",
    "    print(f\"Лучшие параметры для модели с {params['kernel']} ядром: {gs.best_params_}\")\n",
    "    clf = gs.best_estimator_\n",
    "    print(f\"Точность на валидационной выборке: {accuracy_score(clf.predict(X_val), Y_val)}\\n\")\n",
    "    return gs.best_estimator_"
   ]
  },
  {
   "cell_type": "code",
   "execution_count": 24,
   "id": "ce2334a3",
   "metadata": {},
   "outputs": [
    {
     "name": "stdout",
     "output_type": "stream",
     "text": [
      "Лучшие параметры для модели с ['linear'] ядром: {'C': 0.1, 'decision_function_shape': 'ovo', 'kernel': 'linear'}\n",
      "Точность на валидационной выборке: 0.8592964824120602\n",
      "\n",
      "Лучшие параметры для модели с ['poly'] ядром: {'C': 10.0, 'decision_function_shape': 'ovo', 'degree': 2, 'kernel': 'poly'}\n",
      "Точность на валидационной выборке: 0.8793969849246231\n",
      "\n",
      "Лучшие параметры для модели с ['rbf'] ядром: {'C': 100.0, 'decision_function_shape': 'ovo', 'gamma': 0.001, 'kernel': 'rbf'}\n",
      "Точность на валидационной выборке: 0.8492462311557789\n",
      "\n",
      "Лучшие параметры для модели с ['sigmoid'] ядром: {'C': 1.0, 'coef0': -1, 'decision_function_shape': 'ovo', 'kernel': 'sigmoid'}\n",
      "Точность на валидационной выборке: 0.8090452261306532\n",
      "\n"
     ]
    }
   ],
   "source": [
    "clfs = [None]*4\n",
    "for i in range(4):\n",
    "    clfs[i] = grid_searche(multi_params[i])\n",
    "clf1, clf2, clf3, clf4 = clfs"
   ]
  },
  {
   "cell_type": "code",
   "execution_count": 25,
   "id": "971d4c85",
   "metadata": {},
   "outputs": [
    {
     "data": {
      "text/plain": [
       "array(['Antoshkin', 'human', 'Antoshkin', 'human', 'gigachat', 'human',\n",
       "       'Antoshkin', 'human', 'Antoshkin', 'gpt4', 'gpt4', 'gigachat',\n",
       "       'human', 'Antoshkin', 'human', 'gigachat', 'gpt4', 'gpt4',\n",
       "       'gigachat', 'gpt4', 'gpt4', 'Antoshkin', 'gpt4', 'human', 'human',\n",
       "       'human', 'Antoshkin', 'gpt4', 'gpt4', 'gigachat', 'gpt4', 'gpt4',\n",
       "       'gigachat', 'gigachat', 'gpt4', 'Antoshkin', 'gpt4', 'gigachat',\n",
       "       'gpt4', 'Antoshkin', 'gigachat', 'Antoshkin', 'human', 'gpt4',\n",
       "       'gpt4', 'gigachat', 'human', 'gigachat', 'gpt4', 'Antoshkin',\n",
       "       'gigachat', 'gpt4', 'gigachat', 'gpt4', 'Antoshkin', 'human',\n",
       "       'human', 'gpt4', 'Antoshkin', 'gigachat', 'gigachat', 'Antoshkin',\n",
       "       'human', 'Antoshkin', 'gpt4', 'human', 'gpt4', 'human', 'gpt4',\n",
       "       'Antoshkin', 'Antoshkin', 'gigachat', 'Antoshkin', 'human',\n",
       "       'gigachat', 'Antoshkin', 'gpt4', 'Antoshkin', 'gpt4', 'human',\n",
       "       'Antoshkin', 'gpt4', 'Antoshkin', 'gpt4', 'Antoshkin', 'Antoshkin',\n",
       "       'gigachat', 'Antoshkin', 'gpt4', 'human', 'human', 'human',\n",
       "       'Antoshkin', 'gpt4', 'Antoshkin', 'gigachat', 'human', 'Antoshkin',\n",
       "       'gpt4', 'Antoshkin'], dtype=object)"
      ]
     },
     "execution_count": 25,
     "metadata": {},
     "output_type": "execute_result"
    }
   ],
   "source": [
    "Y_pred_test_1 = clf1.predict(np.array(test[df.columns[selected_ind]]))\n",
    "Y_pred_test_2 = clf2.predict(np.array(test[df.columns[selected_ind]]))\n",
    "Y_pred_test_3 = clf3.predict(np.array(test[df.columns[selected_ind]]))\n",
    "Y_pred_test_4 = clf4.predict(np.array(test[df.columns[selected_ind]]))\n",
    "Y_pred_test_4"
   ]
  },
  {
   "cell_type": "code",
   "execution_count": 26,
   "id": "8bf6be16",
   "metadata": {},
   "outputs": [],
   "source": [
    "ans = pd.read_csv(\"df_test_otvety.csv\")"
   ]
  },
  {
   "cell_type": "code",
   "execution_count": 27,
   "id": "04bb3875",
   "metadata": {},
   "outputs": [
    {
     "name": "stdout",
     "output_type": "stream",
     "text": [
      "0.78\n",
      "0.8\n",
      "0.81\n",
      "0.74\n"
     ]
    }
   ],
   "source": [
    "print(accuracy_score(Y_pred_test_1, ans[\"author\"]))\n",
    "print(accuracy_score(Y_pred_test_2, ans[\"author\"]))\n",
    "print(accuracy_score(Y_pred_test_3, ans[\"author\"]))\n",
    "print(accuracy_score(Y_pred_test_4, ans[\"author\"]))"
   ]
  }
 ],
 "metadata": {
  "kernelspec": {
   "display_name": "Python 3 (ipykernel)",
   "language": "python",
   "name": "python3"
  },
  "language_info": {
   "codemirror_mode": {
    "name": "ipython",
    "version": 3
   },
   "file_extension": ".py",
   "mimetype": "text/x-python",
   "name": "python",
   "nbconvert_exporter": "python",
   "pygments_lexer": "ipython3",
   "version": "3.11.3"
  }
 },
 "nbformat": 4,
 "nbformat_minor": 5
}
